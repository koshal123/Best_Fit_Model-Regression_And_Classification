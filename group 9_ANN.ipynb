{
  "nbformat": 4,
  "nbformat_minor": 0,
  "metadata": {
    "colab": {
      "name": "Copy of ANN_781.ipynb",
      "version": "0.3.2",
      "provenance": [],
      "collapsed_sections": []
    },
    "kernelspec": {
      "name": "python3",
      "display_name": "Python 3"
    },
    "accelerator": "GPU"
  },
  "cells": [
    {
      "metadata": {
        "id": "1LjZqQrlBTm6",
        "colab_type": "text"
      },
      "cell_type": "markdown",
      "source": [
        "#Artificial Neural Network"
      ]
    },
    {
      "metadata": {
        "id": "r5p9il3reHOe",
        "colab_type": "code",
        "outputId": "63eaba5a-2982-4cae-9f11-0f1e81617f08",
        "colab": {
          "base_uri": "https://localhost:8080/",
          "height": 34
        }
      },
      "cell_type": "code",
      "source": [
        "%matplotlib inline\n",
        "\n",
        "from keras.models import Sequential\n",
        "from keras.layers import Dense, Activation, Dropout, Flatten, MaxPooling2D\n",
        "from keras.layers.convolutional import Conv2D \n",
        "from keras.layers.recurrent import SimpleRNN, LSTM, GRU \n",
        "from keras.utils import np_utils\n",
        "from keras import backend as K\n",
        "\n",
        "from distutils.version import LooseVersion as LV\n",
        "from keras import __version__\n",
        "\n",
        "from IPython.display import SVG\n",
        "from keras.utils.vis_utils import model_to_dot\n",
        "\n",
        "from keras.datasets import mnist, fashion_mnist, imdb\n",
        "\n",
        "from sklearn.model_selection import train_test_split\n",
        "\n",
        "\n",
        "print('Using Keras version:', __version__, 'backend:', K.backend())\n",
        "assert(LV(__version__) >= LV(\"2.0.0\"))"
      ],
      "execution_count": 0,
      "outputs": [
        {
          "output_type": "stream",
          "text": [
            "Using Keras version: 2.2.4 backend: tensorflow\n"
          ],
          "name": "stdout"
        }
      ]
    },
    {
      "metadata": {
        "id": "XxWegQkdeN0Y",
        "colab_type": "code",
        "outputId": "e522e8e2-7ad5-4cf8-891c-e556dc499777",
        "colab": {
          "base_uri": "https://localhost:8080/",
          "height": 34
        }
      },
      "cell_type": "code",
      "source": [
        "if K.backend() == \"tensorflow\":\n",
        "    import tensorflow as tf\n",
        "    device_name = tf.test.gpu_device_name()\n",
        "    if device_name == '':\n",
        "        device_name = \"None\"\n",
        "    print('Using TensorFlow version:', tf.__version__, ', GPU:', device_name)"
      ],
      "execution_count": 0,
      "outputs": [
        {
          "output_type": "stream",
          "text": [
            "Using TensorFlow version: 1.13.1 , GPU: /device:GPU:0\n"
          ],
          "name": "stdout"
        }
      ]
    },
    {
      "metadata": {
        "id": "zlGcOotsebjj",
        "colab_type": "code",
        "colab": {}
      },
      "cell_type": "code",
      "source": [
        "import numpy as np\n",
        "import matplotlib.pyplot as plt\n",
        "import pandas as pd"
      ],
      "execution_count": 0,
      "outputs": []
    },
    {
      "metadata": {
        "id": "igjVs-1te5VU",
        "colab_type": "code",
        "outputId": "f33dde7b-2acb-4275-cb17-58841e7887a0",
        "colab": {
          "resources": {
            "http://localhost:8080/nbextensions/google.colab/files.js": {
              "data": "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",
              "ok": true,
              "headers": [
                [
                  "content-type",
                  "application/javascript"
                ]
              ],
              "status": 200,
              "status_text": ""
            }
          },
          "base_uri": "https://localhost:8080/",
          "height": 74
        }
      },
      "cell_type": "code",
      "source": [
        "from google.colab import files\n",
        "uploaded = files.upload()"
      ],
      "execution_count": 0,
      "outputs": [
        {
          "output_type": "display_data",
          "data": {
            "text/html": [
              "\n",
              "     <input type=\"file\" id=\"files-20f05e4b-b163-487b-a5fa-47f79debea1b\" name=\"files[]\" multiple disabled />\n",
              "     <output id=\"result-20f05e4b-b163-487b-a5fa-47f79debea1b\">\n",
              "      Upload widget is only available when the cell has been executed in the\n",
              "      current browser session. Please rerun this cell to enable.\n",
              "      </output>\n",
              "      <script src=\"/nbextensions/google.colab/files.js\"></script> "
            ],
            "text/plain": [
              "<IPython.core.display.HTML object>"
            ]
          },
          "metadata": {
            "tags": []
          }
        },
        {
          "output_type": "stream",
          "text": [
            "Saving g-09-w2.csv to g-09-w2 (1).csv\n"
          ],
          "name": "stdout"
        }
      ]
    },
    {
      "metadata": {
        "id": "WU212YG09IB8",
        "colab_type": "code",
        "colab": {}
      },
      "cell_type": "code",
      "source": [
        "dataset=pd.read_csv('g-09-w2.csv')"
      ],
      "execution_count": 0,
      "outputs": []
    },
    {
      "metadata": {
        "id": "OnbegI5x_Uc3",
        "colab_type": "code",
        "outputId": "a862521d-b7bf-4dd5-e3b7-b6f7b3ee4578",
        "colab": {
          "base_uri": "https://localhost:8080/",
          "height": 195
        }
      },
      "cell_type": "code",
      "source": [
        "dataset.head()\n",
        "#X6 and X8 are descritized"
      ],
      "execution_count": 0,
      "outputs": [
        {
          "output_type": "execute_result",
          "data": {
            "text/html": [
              "<div>\n",
              "<style scoped>\n",
              "    .dataframe tbody tr th:only-of-type {\n",
              "        vertical-align: middle;\n",
              "    }\n",
              "\n",
              "    .dataframe tbody tr th {\n",
              "        vertical-align: top;\n",
              "    }\n",
              "\n",
              "    .dataframe thead th {\n",
              "        text-align: right;\n",
              "    }\n",
              "</style>\n",
              "<table border=\"1\" class=\"dataframe\">\n",
              "  <thead>\n",
              "    <tr style=\"text-align: right;\">\n",
              "      <th></th>\n",
              "      <th>Unnamed: 0</th>\n",
              "      <th>y</th>\n",
              "      <th>x1</th>\n",
              "      <th>x2</th>\n",
              "      <th>x3</th>\n",
              "      <th>x4</th>\n",
              "      <th>x5</th>\n",
              "      <th>x6</th>\n",
              "      <th>x7</th>\n",
              "      <th>x8</th>\n",
              "      <th>x9</th>\n",
              "      <th>x10</th>\n",
              "      <th>x11</th>\n",
              "      <th>x12</th>\n",
              "    </tr>\n",
              "  </thead>\n",
              "  <tbody>\n",
              "    <tr>\n",
              "      <th>0</th>\n",
              "      <td>0</td>\n",
              "      <td>2.0</td>\n",
              "      <td>1.765998</td>\n",
              "      <td>1.280574</td>\n",
              "      <td>0.031411</td>\n",
              "      <td>5.366491</td>\n",
              "      <td>8.639256</td>\n",
              "      <td>2.0</td>\n",
              "      <td>0.193558</td>\n",
              "      <td>3.0</td>\n",
              "      <td>2.622698</td>\n",
              "      <td>0.893650</td>\n",
              "      <td>8.990137</td>\n",
              "      <td>7.755609</td>\n",
              "    </tr>\n",
              "    <tr>\n",
              "      <th>1</th>\n",
              "      <td>1</td>\n",
              "      <td>1.0</td>\n",
              "      <td>1.776363</td>\n",
              "      <td>1.361389</td>\n",
              "      <td>0.761303</td>\n",
              "      <td>6.353469</td>\n",
              "      <td>10.484468</td>\n",
              "      <td>2.0</td>\n",
              "      <td>0.011895</td>\n",
              "      <td>3.0</td>\n",
              "      <td>8.343507</td>\n",
              "      <td>0.978851</td>\n",
              "      <td>9.139275</td>\n",
              "      <td>6.104601</td>\n",
              "    </tr>\n",
              "    <tr>\n",
              "      <th>2</th>\n",
              "      <td>2</td>\n",
              "      <td>2.0</td>\n",
              "      <td>1.774271</td>\n",
              "      <td>1.660602</td>\n",
              "      <td>0.349677</td>\n",
              "      <td>3.443069</td>\n",
              "      <td>15.217140</td>\n",
              "      <td>1.0</td>\n",
              "      <td>0.058478</td>\n",
              "      <td>3.0</td>\n",
              "      <td>4.717711</td>\n",
              "      <td>1.426715</td>\n",
              "      <td>9.024671</td>\n",
              "      <td>8.548405</td>\n",
              "    </tr>\n",
              "    <tr>\n",
              "      <th>3</th>\n",
              "      <td>3</td>\n",
              "      <td>2.0</td>\n",
              "      <td>1.775124</td>\n",
              "      <td>1.243572</td>\n",
              "      <td>0.458525</td>\n",
              "      <td>4.826173</td>\n",
              "      <td>14.434667</td>\n",
              "      <td>2.0</td>\n",
              "      <td>0.310368</td>\n",
              "      <td>1.0</td>\n",
              "      <td>2.603179</td>\n",
              "      <td>0.765714</td>\n",
              "      <td>9.111226</td>\n",
              "      <td>14.122465</td>\n",
              "    </tr>\n",
              "    <tr>\n",
              "      <th>4</th>\n",
              "      <td>4</td>\n",
              "      <td>1.0</td>\n",
              "      <td>1.778930</td>\n",
              "      <td>1.280574</td>\n",
              "      <td>0.581080</td>\n",
              "      <td>6.288740</td>\n",
              "      <td>3.822806</td>\n",
              "      <td>1.0</td>\n",
              "      <td>0.766095</td>\n",
              "      <td>3.0</td>\n",
              "      <td>3.543636</td>\n",
              "      <td>0.395943</td>\n",
              "      <td>9.022079</td>\n",
              "      <td>7.664536</td>\n",
              "    </tr>\n",
              "  </tbody>\n",
              "</table>\n",
              "</div>"
            ],
            "text/plain": [
              "   Unnamed: 0    y        x1        x2        x3        x4         x5   x6  \\\n",
              "0           0  2.0  1.765998  1.280574  0.031411  5.366491   8.639256  2.0   \n",
              "1           1  1.0  1.776363  1.361389  0.761303  6.353469  10.484468  2.0   \n",
              "2           2  2.0  1.774271  1.660602  0.349677  3.443069  15.217140  1.0   \n",
              "3           3  2.0  1.775124  1.243572  0.458525  4.826173  14.434667  2.0   \n",
              "4           4  1.0  1.778930  1.280574  0.581080  6.288740   3.822806  1.0   \n",
              "\n",
              "         x7   x8        x9       x10       x11        x12  \n",
              "0  0.193558  3.0  2.622698  0.893650  8.990137   7.755609  \n",
              "1  0.011895  3.0  8.343507  0.978851  9.139275   6.104601  \n",
              "2  0.058478  3.0  4.717711  1.426715  9.024671   8.548405  \n",
              "3  0.310368  1.0  2.603179  0.765714  9.111226  14.122465  \n",
              "4  0.766095  3.0  3.543636  0.395943  9.022079   7.664536  "
            ]
          },
          "metadata": {
            "tags": []
          },
          "execution_count": 69
        }
      ]
    },
    {
      "metadata": {
        "id": "8cjJ6fgMfdsi",
        "colab_type": "code",
        "colab": {}
      },
      "cell_type": "code",
      "source": [
        "#dependent and independent variables\n",
        "X=dataset.iloc[:, 2:14].values\n",
        "Y=dataset.iloc[:, 1].values"
      ],
      "execution_count": 0,
      "outputs": []
    },
    {
      "metadata": {
        "id": "QCn75z10MnHL",
        "colab_type": "code",
        "colab": {}
      },
      "cell_type": "code",
      "source": [
        "from keras.wrappers.scikit_learn import KerasClassifier\n",
        "from sklearn.model_selection import cross_val_score\n",
        "from sklearn.model_selection import KFold\n",
        "from sklearn.preprocessing import LabelEncoder"
      ],
      "execution_count": 0,
      "outputs": []
    },
    {
      "metadata": {
        "id": "CpPD8U1YMU3Y",
        "colab_type": "code",
        "colab": {}
      },
      "cell_type": "code",
      "source": [
        "\n",
        "# encode class values as integers\n",
        "encoder = LabelEncoder()\n",
        "encoder.fit(Y)\n",
        "encoded_Y = encoder.transform(Y)\n",
        "# convert integers to dummy variables (i.e. one hot encoded)\n",
        "mat_Y = np_utils.to_categorical(encoded_Y)\n"
      ],
      "execution_count": 0,
      "outputs": []
    },
    {
      "metadata": {
        "id": "pJ3qVaO9ArsM",
        "colab_type": "code",
        "outputId": "0de12897-e0c0-4d29-8a0b-931555d53f04",
        "colab": {
          "base_uri": "https://localhost:8080/",
          "height": 34
        }
      },
      "cell_type": "code",
      "source": [
        "mat_Y.shape"
      ],
      "execution_count": 0,
      "outputs": [
        {
          "output_type": "execute_result",
          "data": {
            "text/plain": [
              "(1000, 5)"
            ]
          },
          "metadata": {
            "tags": []
          },
          "execution_count": 73
        }
      ]
    },
    {
      "metadata": {
        "id": "URp5Dj8Lm8Lz",
        "colab_type": "code",
        "colab": {}
      },
      "cell_type": "code",
      "source": [
        "#Cross validation by test and training data set\n",
        "from sklearn.model_selection import train_test_split\n",
        "X_train , X_test, Y_train , Y_test  = train_test_split(X,mat_Y, test_size=0.2 , random_state=0)"
      ],
      "execution_count": 0,
      "outputs": []
    },
    {
      "metadata": {
        "id": "dDBXZIimouNy",
        "colab_type": "code",
        "colab": {}
      },
      "cell_type": "code",
      "source": [
        "#Feature scaling\n",
        "from sklearn.preprocessing import StandardScaler\n",
        "sc  =StandardScaler()\n",
        "X_train = sc.fit_transform(X_train)\n",
        "X_test = sc.transform(X_test)"
      ],
      "execution_count": 0,
      "outputs": []
    },
    {
      "metadata": {
        "id": "Vy7tXOsgp0Lv",
        "colab_type": "code",
        "colab": {}
      },
      "cell_type": "code",
      "source": [
        "#make a ANN\n",
        "#Initializing the ANN\n",
        "classifier=Sequential()"
      ],
      "execution_count": 0,
      "outputs": []
    },
    {
      "metadata": {
        "id": "4y9B7nC8u81I",
        "colab_type": "code",
        "colab": {}
      },
      "cell_type": "code",
      "source": [
        "#Adding input layer and first hidden layer\n",
        "#input neuron=12 , hidden neuron=9\n",
        "classifier.add(Dense(8,input_dim=12,activation='relu'))"
      ],
      "execution_count": 0,
      "outputs": []
    },
    {
      "metadata": {
        "id": "kA9NoavAw1T-",
        "colab_type": "code",
        "colab": {}
      },
      "cell_type": "code",
      "source": [
        "#Adding the output layer\n",
        "#output neuron=5\n",
        "classifier.add(Dense(5, activation=\"softmax\"))"
      ],
      "execution_count": 0,
      "outputs": []
    },
    {
      "metadata": {
        "id": "pv9e3VkyN-BG",
        "colab_type": "code",
        "colab": {}
      },
      "cell_type": "code",
      "source": [
        "#compile the ANN\n",
        "classifier.compile(loss='categorical_crossentropy', optimizer='adam', metrics=['accuracy'])"
      ],
      "execution_count": 0,
      "outputs": []
    },
    {
      "metadata": {
        "id": "A2ISO-lqRbyA",
        "colab_type": "code",
        "outputId": "c6754c39-4d6c-49d3-8641-227155e5d260",
        "colab": {
          "base_uri": "https://localhost:8080/",
          "height": 1714
        }
      },
      "cell_type": "code",
      "source": [
        "#Fitting the ANN in training set\n",
        "estimator=classifier.fit(X_train,Y_train,validation_split=0.1 , batch_size=5, epochs=50 )"
      ],
      "execution_count": 0,
      "outputs": [
        {
          "output_type": "stream",
          "text": [
            "Train on 720 samples, validate on 80 samples\n",
            "Epoch 1/50\n",
            "720/720 [==============================] - 1s 1ms/step - loss: 1.3504 - acc: 0.5736 - val_loss: 1.2034 - val_acc: 0.6875\n",
            "Epoch 2/50\n",
            "720/720 [==============================] - 1s 708us/step - loss: 1.0246 - acc: 0.6958 - val_loss: 0.9256 - val_acc: 0.7000\n",
            "Epoch 3/50\n",
            "720/720 [==============================] - 1s 770us/step - loss: 0.8282 - acc: 0.7014 - val_loss: 0.7939 - val_acc: 0.7000\n",
            "Epoch 4/50\n",
            "720/720 [==============================] - 1s 748us/step - loss: 0.7220 - acc: 0.7056 - val_loss: 0.7129 - val_acc: 0.7000\n",
            "Epoch 5/50\n",
            "720/720 [==============================] - 1s 779us/step - loss: 0.6622 - acc: 0.7083 - val_loss: 0.6762 - val_acc: 0.7375\n",
            "Epoch 6/50\n",
            "720/720 [==============================] - 1s 723us/step - loss: 0.6238 - acc: 0.7583 - val_loss: 0.6737 - val_acc: 0.7500\n",
            "Epoch 7/50\n",
            "720/720 [==============================] - 1s 753us/step - loss: 0.5962 - acc: 0.7792 - val_loss: 0.6637 - val_acc: 0.7250\n",
            "Epoch 8/50\n",
            "720/720 [==============================] - 1s 738us/step - loss: 0.5752 - acc: 0.7917 - val_loss: 0.6699 - val_acc: 0.7250\n",
            "Epoch 9/50\n",
            "720/720 [==============================] - 1s 767us/step - loss: 0.5586 - acc: 0.7847 - val_loss: 0.6754 - val_acc: 0.7250\n",
            "Epoch 10/50\n",
            "720/720 [==============================] - 1s 731us/step - loss: 0.5467 - acc: 0.7958 - val_loss: 0.6820 - val_acc: 0.7125\n",
            "Epoch 11/50\n",
            "720/720 [==============================] - 1s 757us/step - loss: 0.5323 - acc: 0.8028 - val_loss: 0.6578 - val_acc: 0.7125\n",
            "Epoch 12/50\n",
            "720/720 [==============================] - 1s 732us/step - loss: 0.5286 - acc: 0.7958 - val_loss: 0.6885 - val_acc: 0.7000\n",
            "Epoch 13/50\n",
            "720/720 [==============================] - 1s 769us/step - loss: 0.5220 - acc: 0.8000 - val_loss: 0.6777 - val_acc: 0.6875\n",
            "Epoch 14/50\n",
            "720/720 [==============================] - 1s 729us/step - loss: 0.5147 - acc: 0.8083 - val_loss: 0.6797 - val_acc: 0.7000\n",
            "Epoch 15/50\n",
            "720/720 [==============================] - 1s 749us/step - loss: 0.5080 - acc: 0.8042 - val_loss: 0.6843 - val_acc: 0.7000\n",
            "Epoch 16/50\n",
            "720/720 [==============================] - 1s 722us/step - loss: 0.5030 - acc: 0.8042 - val_loss: 0.7064 - val_acc: 0.7125\n",
            "Epoch 17/50\n",
            "720/720 [==============================] - 1s 733us/step - loss: 0.4994 - acc: 0.8056 - val_loss: 0.7107 - val_acc: 0.7000\n",
            "Epoch 18/50\n",
            "720/720 [==============================] - 1s 748us/step - loss: 0.4958 - acc: 0.8069 - val_loss: 0.7133 - val_acc: 0.7000\n",
            "Epoch 19/50\n",
            "720/720 [==============================] - 1s 737us/step - loss: 0.4950 - acc: 0.8139 - val_loss: 0.7108 - val_acc: 0.6875\n",
            "Epoch 20/50\n",
            "720/720 [==============================] - 1s 745us/step - loss: 0.4899 - acc: 0.8097 - val_loss: 0.7231 - val_acc: 0.7000\n",
            "Epoch 21/50\n",
            "720/720 [==============================] - 1s 736us/step - loss: 0.4890 - acc: 0.8028 - val_loss: 0.7181 - val_acc: 0.6875\n",
            "Epoch 22/50\n",
            "720/720 [==============================] - 1s 763us/step - loss: 0.4872 - acc: 0.8014 - val_loss: 0.7210 - val_acc: 0.6750\n",
            "Epoch 23/50\n",
            "720/720 [==============================] - 1s 719us/step - loss: 0.4824 - acc: 0.8056 - val_loss: 0.7423 - val_acc: 0.7000\n",
            "Epoch 24/50\n",
            "720/720 [==============================] - 1s 753us/step - loss: 0.4823 - acc: 0.8139 - val_loss: 0.7281 - val_acc: 0.6875\n",
            "Epoch 25/50\n",
            "720/720 [==============================] - 1s 759us/step - loss: 0.4796 - acc: 0.8028 - val_loss: 0.7284 - val_acc: 0.6875\n",
            "Epoch 26/50\n",
            "720/720 [==============================] - 1s 767us/step - loss: 0.4781 - acc: 0.8097 - val_loss: 0.7455 - val_acc: 0.7000\n",
            "Epoch 27/50\n",
            "720/720 [==============================] - 1s 740us/step - loss: 0.4784 - acc: 0.8042 - val_loss: 0.7515 - val_acc: 0.7125\n",
            "Epoch 28/50\n",
            "720/720 [==============================] - 1s 781us/step - loss: 0.4751 - acc: 0.8069 - val_loss: 0.7458 - val_acc: 0.6875\n",
            "Epoch 29/50\n",
            "720/720 [==============================] - 1s 777us/step - loss: 0.4758 - acc: 0.8028 - val_loss: 0.7347 - val_acc: 0.7000\n",
            "Epoch 30/50\n",
            "720/720 [==============================] - 1s 766us/step - loss: 0.4717 - acc: 0.8069 - val_loss: 0.7434 - val_acc: 0.6625\n",
            "Epoch 31/50\n",
            "720/720 [==============================] - 1s 728us/step - loss: 0.4717 - acc: 0.8028 - val_loss: 0.7571 - val_acc: 0.6875\n",
            "Epoch 32/50\n",
            "720/720 [==============================] - 1s 742us/step - loss: 0.4699 - acc: 0.8111 - val_loss: 0.7486 - val_acc: 0.6875\n",
            "Epoch 33/50\n",
            "720/720 [==============================] - 1s 735us/step - loss: 0.4679 - acc: 0.8083 - val_loss: 0.7450 - val_acc: 0.7000\n",
            "Epoch 34/50\n",
            "720/720 [==============================] - 1s 786us/step - loss: 0.4668 - acc: 0.8056 - val_loss: 0.7722 - val_acc: 0.6875\n",
            "Epoch 35/50\n",
            "720/720 [==============================] - 1s 857us/step - loss: 0.4659 - acc: 0.8153 - val_loss: 0.7588 - val_acc: 0.6875\n",
            "Epoch 36/50\n",
            "720/720 [==============================] - 1s 849us/step - loss: 0.4648 - acc: 0.8167 - val_loss: 0.7479 - val_acc: 0.6875\n",
            "Epoch 37/50\n",
            "720/720 [==============================] - 1s 862us/step - loss: 0.4660 - acc: 0.8111 - val_loss: 0.7617 - val_acc: 0.6750\n",
            "Epoch 38/50\n",
            "720/720 [==============================] - 1s 866us/step - loss: 0.4643 - acc: 0.8111 - val_loss: 0.7636 - val_acc: 0.6875\n",
            "Epoch 39/50\n",
            "720/720 [==============================] - 1s 855us/step - loss: 0.4616 - acc: 0.8125 - val_loss: 0.7767 - val_acc: 0.6750\n",
            "Epoch 40/50\n",
            "720/720 [==============================] - 1s 868us/step - loss: 0.4612 - acc: 0.8194 - val_loss: 0.7618 - val_acc: 0.6750\n",
            "Epoch 41/50\n",
            "720/720 [==============================] - 1s 845us/step - loss: 0.4606 - acc: 0.8208 - val_loss: 0.7693 - val_acc: 0.6750\n",
            "Epoch 42/50\n",
            "720/720 [==============================] - 1s 856us/step - loss: 0.4592 - acc: 0.8181 - val_loss: 0.7606 - val_acc: 0.7000\n",
            "Epoch 43/50\n",
            "720/720 [==============================] - 1s 838us/step - loss: 0.4593 - acc: 0.8208 - val_loss: 0.7846 - val_acc: 0.6750\n",
            "Epoch 44/50\n",
            "720/720 [==============================] - 1s 896us/step - loss: 0.4566 - acc: 0.8181 - val_loss: 0.7788 - val_acc: 0.6750\n",
            "Epoch 45/50\n",
            "720/720 [==============================] - 1s 824us/step - loss: 0.4545 - acc: 0.8236 - val_loss: 0.7761 - val_acc: 0.6875\n",
            "Epoch 46/50\n",
            "720/720 [==============================] - 1s 810us/step - loss: 0.4562 - acc: 0.8181 - val_loss: 0.7857 - val_acc: 0.6500\n",
            "Epoch 47/50\n",
            "720/720 [==============================] - 1s 841us/step - loss: 0.4547 - acc: 0.8181 - val_loss: 0.7836 - val_acc: 0.6500\n",
            "Epoch 48/50\n",
            "720/720 [==============================] - 1s 821us/step - loss: 0.4527 - acc: 0.8292 - val_loss: 0.8069 - val_acc: 0.6625\n",
            "Epoch 49/50\n",
            "720/720 [==============================] - 1s 851us/step - loss: 0.4534 - acc: 0.8264 - val_loss: 0.7943 - val_acc: 0.6500\n",
            "Epoch 50/50\n",
            "720/720 [==============================] - 1s 815us/step - loss: 0.4510 - acc: 0.8250 - val_loss: 0.7872 - val_acc: 0.6625\n"
          ],
          "name": "stdout"
        }
      ]
    },
    {
      "metadata": {
        "id": "pdm-7y0jgYLP",
        "colab_type": "code",
        "outputId": "6b97dedd-52a5-4d4d-c1cc-68396f349576",
        "colab": {
          "base_uri": "https://localhost:8080/",
          "height": 67
        }
      },
      "cell_type": "code",
      "source": [
        "loss, acc = classifier.evaluate(X_test, Y_test, batch_size=5)\n",
        "print()\n",
        "print('loss:', loss, 'acc:', acc)"
      ],
      "execution_count": 0,
      "outputs": [
        {
          "output_type": "stream",
          "text": [
            "200/200 [==============================] - 0s 271us/step\n",
            "\n",
            "loss: 0.6931238148361445 acc: 0.6950000140815973\n"
          ],
          "name": "stdout"
        }
      ]
    },
    {
      "metadata": {
        "id": "MxP-XQFng_0w",
        "colab_type": "code",
        "colab": {}
      },
      "cell_type": "code",
      "source": [
        ""
      ],
      "execution_count": 0,
      "outputs": []
    }
  ]
}